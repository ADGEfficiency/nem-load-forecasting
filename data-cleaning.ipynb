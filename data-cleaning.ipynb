{
 "cells": [
  {
   "cell_type": "code",
   "execution_count": null,
   "metadata": {
    "colab": {},
    "colab_type": "code",
    "id": "pqXVPw0fAq9r"
   },
   "outputs": [],
   "source": [
    "import os\n",
    "import pandas as pd"
   ]
  },
  {
   "cell_type": "markdown",
   "metadata": {
    "colab_type": "text",
    "id": "4IYWqeyGAq9z"
   },
   "source": [
    "# Data cleaning\n",
    "\n",
    "Before using this notebook, you will need to have used the `nem-data` library to download data - see the instructions for this here\n",
    "\n",
    "Cleaning data requires two tasks\n",
    "- identification\n",
    "- cleaning\n",
    "\n",
    "See what files you have downloaded:"
   ]
  },
  {
   "cell_type": "code",
   "execution_count": null,
   "metadata": {
    "colab": {},
    "colab_type": "code",
    "id": "swWD9lqoAq90"
   },
   "outputs": [],
   "source": [
    "home = os.path.expanduser('~')\n",
    "nem_files = os.listdir(os.path.join(home, 'nem-data', 'demand'))\n",
    "\n",
    "nem_files"
   ]
  },
  {
   "cell_type": "markdown",
   "metadata": {
    "colab_type": "text",
    "id": "KKb2x8PCAq92"
   },
   "source": [
    "If we look at a specific month, we see that `nem-data` has downloaded a few files for each month:"
   ]
  },
  {
   "cell_type": "code",
   "execution_count": null,
   "metadata": {
    "colab": {},
    "colab_type": "code",
    "id": "l18B-xh3Aq94"
   },
   "outputs": [],
   "source": [
    "nem_files = os.listdir(os.path.join(home, 'nem-data', 'demand', '2018-01'))\n",
    "\n",
    "nem_files"
   ]
  },
  {
   "cell_type": "markdown",
   "metadata": {
    "colab_type": "text",
    "id": "JaTUxqHiAq96"
   },
   "source": [
    "Let's grab `clean.csv` and extract a potential target.\n",
    "\n",
    "The data provided for the NEM is large - making working on problems in the NEM great for data scientists:"
   ]
  },
  {
   "cell_type": "code",
   "execution_count": null,
   "metadata": {
    "colab": {},
    "colab_type": "code",
    "id": "-zuwvbgeAq97"
   },
   "outputs": [],
   "source": [
    "raw = pd.read_csv(os.path.join(home, 'nem-data', 'demand', '2018-01', 'clean.csv'), index_col=4, parse_dates=True)\n",
    "raw.head()"
   ]
  },
  {
   "cell_type": "code",
   "execution_count": null,
   "metadata": {},
   "outputs": [],
   "source": [
    "region = raw['REGIONID'] == 'SA1'\n",
    "cols = ['REGIONID', 'TOTALDEMAND']\n",
    "\n",
    "target = raw[region][cols]\n",
    "target.head()"
   ]
  },
  {
   "cell_type": "markdown",
   "metadata": {
    "colab_type": "text",
    "id": "wUfq-sjUAq-B"
   },
   "source": [
    "## Exercise - raw dataset health check\n",
    "\n",
    "On the `raw` dataframe, check\n",
    "- how many missing values we have in each column\n",
    "- check for duplicates\n",
    "\n",
    "On the `target` dataframe\n",
    "- check the integrity of the time stamps (do we have any gaps?)"
   ]
  },
  {
   "cell_type": "code",
   "execution_count": null,
   "metadata": {
    "colab": {},
    "colab_type": "code",
    "id": "fMfo__xlAq-C"
   },
   "outputs": [],
   "source": [
    "raw.isnull().sum()"
   ]
  },
  {
   "cell_type": "markdown",
   "metadata": {},
   "source": [
    "Some of the columns on the raw dataset contain no information at all (100% null values), but we are going to focus our analysis on `TOTALDEMAND`, which thankfully has no missing values at all."
   ]
  },
  {
   "cell_type": "code",
   "execution_count": null,
   "metadata": {},
   "outputs": [],
   "source": [
    "raw.index"
   ]
  },
  {
   "cell_type": "code",
   "execution_count": null,
   "metadata": {},
   "outputs": [],
   "source": [
    "raw.head()"
   ]
  },
  {
   "cell_type": "markdown",
   "metadata": {},
   "source": [
    "The raw dataset has no duplicated rows.\n",
    "\n",
    "*Does it - doesn't the below suggest the opposite?"
   ]
  },
  {
   "cell_type": "code",
   "execution_count": null,
   "metadata": {},
   "outputs": [],
   "source": [
    "sum(raw.index.duplicated())"
   ]
  },
  {
   "cell_type": "markdown",
   "metadata": {},
   "source": [
    "*The below suggests we don't - because we look at the entire row, not just the index*"
   ]
  },
  {
   "cell_type": "code",
   "execution_count": null,
   "metadata": {},
   "outputs": [],
   "source": [
    "sum(raw.duplicated())"
   ]
  },
  {
   "cell_type": "code",
   "execution_count": null,
   "metadata": {},
   "outputs": [],
   "source": [
    "td = pd.Timedelta(minutes = 5)\n",
    "\n",
    "(target.index.to_series().diff() != td).sum()"
   ]
  },
  {
   "cell_type": "markdown",
   "metadata": {},
   "source": [
    "Some rows on the target dataset appear to have time deltas that are different from the typical 5 minutes. We are going to check if there are any duplicate entries."
   ]
  },
  {
   "cell_type": "code",
   "execution_count": null,
   "metadata": {},
   "outputs": [],
   "source": [
    "target = target[target.index.duplicated(keep='first') == False]\n",
    "\n",
    "(target.index.to_series().diff() != td).sum()"
   ]
  },
  {
   "cell_type": "markdown",
   "metadata": {},
   "source": [
    "After dropping the duplicated rows, there's only a single row with a time delta that isn't 5 minutes. This is normal, because the first row can't be compared to the previous."
   ]
  },
  {
   "cell_type": "markdown",
   "metadata": {},
   "source": [
    "*Your solution is an interesting one - I'll show you how I do this*\n",
    "\n",
    "*I make a datetime index at a 5min freq. using the start and end index:*"
   ]
  },
  {
   "cell_type": "code",
   "execution_count": null,
   "metadata": {},
   "outputs": [],
   "source": [
    "dt = pd.date_range(target.index[0], target.index[-1], freq='5min')\n",
    "\n",
    "assert dt.shape[0] == target.shape[0]"
   ]
  },
  {
   "cell_type": "markdown",
   "metadata": {},
   "source": []
  },
  {
   "cell_type": "code",
   "execution_count": null,
   "metadata": {},
   "outputs": [],
   "source": [
    "dt.shape[0]"
   ]
  },
  {
   "cell_type": "code",
   "execution_count": null,
   "metadata": {},
   "outputs": [],
   "source": [
    "target.shape[0]"
   ]
  },
  {
   "cell_type": "code",
   "execution_count": null,
   "metadata": {},
   "outputs": [],
   "source": [
    "set(target.index) - set(dt)"
   ]
  }
 ],
 "metadata": {
  "colab": {
   "name": "data-cleaning.ipynb",
   "provenance": []
  },
  "kernelspec": {
   "display_name": "Python 3",
   "language": "python",
   "name": "python3"
  },
  "language_info": {
   "codemirror_mode": {
    "name": "ipython",
    "version": 3
   },
   "file_extension": ".py",
   "mimetype": "text/x-python",
   "name": "python",
   "nbconvert_exporter": "python",
   "pygments_lexer": "ipython3",
   "version": "3.6.8"
  }
 },
 "nbformat": 4,
 "nbformat_minor": 4
}
