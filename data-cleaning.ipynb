{
 "cells": [
  {
   "cell_type": "code",
   "execution_count": null,
   "metadata": {},
   "outputs": [],
   "source": [
    "import os\n",
    "\n",
    "import pandas as pd"
   ]
  },
  {
   "cell_type": "markdown",
   "metadata": {},
   "source": [
    "# Data cleaning\n",
    "\n",
    "Before using this notebook, you will need to have used the `nem-data` library to download data - see the instructions for this here\n",
    "\n",
    "Cleaning data requires two tasks\n",
    "- identification\n",
    "- cleaning\n",
    "\n",
    "See what files you have downloaded:"
   ]
  },
  {
   "cell_type": "code",
   "execution_count": null,
   "metadata": {},
   "outputs": [],
   "source": [
    "home = os.environ['HOME']\n",
    "nem_files = os.listdir(os.path.join(home, 'nem-data', 'demand'))\n",
    "\n",
    "nem_files"
   ]
  },
  {
   "cell_type": "markdown",
   "metadata": {},
   "source": [
    "If we look at a specific month, we see that `nem-data` has downloaded a few files for each month:"
   ]
  },
  {
   "cell_type": "code",
   "execution_count": null,
   "metadata": {},
   "outputs": [],
   "source": [
    "nem_files = os.listdir(os.path.join(home, 'nem-data', 'demand', '2018-01'))\n",
    "\n",
    "nem_files"
   ]
  },
  {
   "cell_type": "markdown",
   "metadata": {},
   "source": [
    "Let's grab `clean.csv` and extract a potential target.\n",
    "\n",
    "The data provided for the NEM is large - making working on problems in the NEM great for data scientists:"
   ]
  },
  {
   "cell_type": "code",
   "execution_count": null,
   "metadata": {},
   "outputs": [],
   "source": [
    "raw = pd.read_csv(os.path.join(home, 'nem-data', 'demand', '2018-01', 'clean.csv'), index_col=0)\n",
    "raw.head()"
   ]
  },
  {
   "cell_type": "code",
   "execution_count": null,
   "metadata": {},
   "outputs": [],
   "source": [
    "region = 'SA1'\n",
    "mask = raw.loc[:, 'REGIONID'] == region\n",
    "target = raw.loc[mask, ['SETTLEMENTDATE', 'REGIONID', 'TOTALDEMAND']]\n",
    "\n",
    "target.head()"
   ]
  },
  {
   "cell_type": "markdown",
   "metadata": {},
   "source": [
    "## Exercise - raw dataset health check\n",
    "\n",
    "On the `raw` dataframe, check\n",
    "- how many missing values we have in each column\n",
    "- check for duplicates\n",
    "\n",
    "On the `target` dataframe\n",
    "- check the integrity of the time stamps (do we have any gaps?)"
   ]
  },
  {
   "cell_type": "code",
   "execution_count": null,
   "metadata": {},
   "outputs": [],
   "source": []
  }
 ],
 "metadata": {
  "kernelspec": {
   "display_name": "Python 3",
   "language": "python",
   "name": "python3"
  },
  "language_info": {
   "codemirror_mode": {
    "name": "ipython",
    "version": 3
   },
   "file_extension": ".py",
   "mimetype": "text/x-python",
   "name": "python",
   "nbconvert_exporter": "python",
   "pygments_lexer": "ipython3",
   "version": "3.6.8"
  }
 },
 "nbformat": 4,
 "nbformat_minor": 4
}
