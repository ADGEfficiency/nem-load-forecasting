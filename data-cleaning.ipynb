{
 "cells": [
  {
   "cell_type": "code",
   "execution_count": 238,
   "metadata": {
    "colab": {},
    "colab_type": "code",
    "id": "pqXVPw0fAq9r"
   },
   "outputs": [],
   "source": [
    "import os\n",
    "import pandas as pd"
   ]
  },
  {
   "cell_type": "markdown",
   "metadata": {
    "colab_type": "text",
    "id": "4IYWqeyGAq9z"
   },
   "source": [
    "# Data cleaning\n",
    "\n",
    "Before using this notebook, you will need to have used the `nem-data` library to download data - see the instructions for this here\n",
    "\n",
    "Cleaning data requires two tasks\n",
    "- identification\n",
    "- cleaning\n",
    "\n",
    "See what files you have downloaded:"
   ]
  },
  {
   "cell_type": "code",
   "execution_count": 239,
   "metadata": {
    "colab": {},
    "colab_type": "code",
    "id": "swWD9lqoAq90"
   },
   "outputs": [
    {
     "data": {
      "text/plain": [
       "['2018-01', '2018-02']"
      ]
     },
     "execution_count": 239,
     "metadata": {},
     "output_type": "execute_result"
    }
   ],
   "source": [
    "home = os.path.expanduser('~')\n",
    "nem_files = os.listdir(os.path.join(home, 'nem-data', 'demand'))\n",
    "\n",
    "nem_files"
   ]
  },
  {
   "cell_type": "markdown",
   "metadata": {
    "colab_type": "text",
    "id": "KKb2x8PCAq92"
   },
   "source": [
    "If we look at a specific month, we see that `nem-data` has downloaded a few files for each month:"
   ]
  },
  {
   "cell_type": "code",
   "execution_count": 240,
   "metadata": {
    "colab": {},
    "colab_type": "code",
    "id": "l18B-xh3Aq94"
   },
   "outputs": [
    {
     "data": {
      "text/plain": [
       "['clean.csv',\n",
       " 'DISPATCHREGIONSUM.zip',\n",
       " 'PUBLIC_DVD_DISPATCHREGIONSUM_201801010000.CSV']"
      ]
     },
     "execution_count": 240,
     "metadata": {},
     "output_type": "execute_result"
    }
   ],
   "source": [
    "nem_files = os.listdir(os.path.join(home, 'nem-data', 'demand', '2018-01'))\n",
    "\n",
    "nem_files"
   ]
  },
  {
   "cell_type": "markdown",
   "metadata": {
    "colab_type": "text",
    "id": "JaTUxqHiAq96"
   },
   "source": [
    "Let's grab `clean.csv` and extract a potential target.\n",
    "\n",
    "The data provided for the NEM is large - making working on problems in the NEM great for data scientists:"
   ]
  },
  {
   "cell_type": "code",
   "execution_count": 241,
   "metadata": {
    "colab": {},
    "colab_type": "code",
    "id": "-zuwvbgeAq97"
   },
   "outputs": [
    {
     "data": {
      "text/html": [
       "<div>\n",
       "<style scoped>\n",
       "    .dataframe tbody tr th:only-of-type {\n",
       "        vertical-align: middle;\n",
       "    }\n",
       "\n",
       "    .dataframe tbody tr th {\n",
       "        vertical-align: top;\n",
       "    }\n",
       "\n",
       "    .dataframe thead th {\n",
       "        text-align: right;\n",
       "    }\n",
       "</style>\n",
       "<table border=\"1\" class=\"dataframe\">\n",
       "  <thead>\n",
       "    <tr style=\"text-align: right;\">\n",
       "      <th></th>\n",
       "      <th>I</th>\n",
       "      <th>DISPATCH</th>\n",
       "      <th>REGIONSUM</th>\n",
       "      <th>4</th>\n",
       "      <th>RUNNO</th>\n",
       "      <th>REGIONID</th>\n",
       "      <th>DISPATCHINTERVAL</th>\n",
       "      <th>INTERVENTION</th>\n",
       "      <th>TOTALDEMAND</th>\n",
       "      <th>AVAILABLEGENERATION</th>\n",
       "      <th>...</th>\n",
       "      <th>LOWER60SECACTUALAVAILABILITY</th>\n",
       "      <th>LOWER5MINACTUALAVAILABILITY</th>\n",
       "      <th>LOWERREGACTUALAVAILABILITY</th>\n",
       "      <th>LORSURPLUS</th>\n",
       "      <th>LRCSURPLUS</th>\n",
       "      <th>TOTALINTERMITTENTGENERATION</th>\n",
       "      <th>DEMAND_AND_NONSCHEDGEN</th>\n",
       "      <th>UIGF</th>\n",
       "      <th>SEMISCHEDULE_CLEAREDMW</th>\n",
       "      <th>SEMISCHEDULE_COMPLIANCEMW</th>\n",
       "    </tr>\n",
       "    <tr>\n",
       "      <th>SETTLEMENTDATE</th>\n",
       "      <th></th>\n",
       "      <th></th>\n",
       "      <th></th>\n",
       "      <th></th>\n",
       "      <th></th>\n",
       "      <th></th>\n",
       "      <th></th>\n",
       "      <th></th>\n",
       "      <th></th>\n",
       "      <th></th>\n",
       "      <th></th>\n",
       "      <th></th>\n",
       "      <th></th>\n",
       "      <th></th>\n",
       "      <th></th>\n",
       "      <th></th>\n",
       "      <th></th>\n",
       "      <th></th>\n",
       "      <th></th>\n",
       "      <th></th>\n",
       "      <th></th>\n",
       "    </tr>\n",
       "  </thead>\n",
       "  <tbody>\n",
       "    <tr>\n",
       "      <th>2018-01-01 00:05:00</th>\n",
       "      <td>D</td>\n",
       "      <td>DISPATCH</td>\n",
       "      <td>REGIONSUM</td>\n",
       "      <td>4.0</td>\n",
       "      <td>1.0</td>\n",
       "      <td>NSW1</td>\n",
       "      <td>2.017123e+10</td>\n",
       "      <td>0.0</td>\n",
       "      <td>7021.71</td>\n",
       "      <td>11526.264</td>\n",
       "      <td>...</td>\n",
       "      <td>824.000000</td>\n",
       "      <td>687.64070</td>\n",
       "      <td>227.665483</td>\n",
       "      <td>NaN</td>\n",
       "      <td>NaN</td>\n",
       "      <td>0.17736</td>\n",
       "      <td>7042.60736</td>\n",
       "      <td>89.264</td>\n",
       "      <td>89.264</td>\n",
       "      <td>0.0</td>\n",
       "    </tr>\n",
       "    <tr>\n",
       "      <th>2018-01-01 00:05:00</th>\n",
       "      <td>D</td>\n",
       "      <td>DISPATCH</td>\n",
       "      <td>REGIONSUM</td>\n",
       "      <td>4.0</td>\n",
       "      <td>1.0</td>\n",
       "      <td>QLD1</td>\n",
       "      <td>2.017123e+10</td>\n",
       "      <td>0.0</td>\n",
       "      <td>6057.98</td>\n",
       "      <td>10651.650</td>\n",
       "      <td>...</td>\n",
       "      <td>200.000000</td>\n",
       "      <td>35.00000</td>\n",
       "      <td>189.300009</td>\n",
       "      <td>NaN</td>\n",
       "      <td>NaN</td>\n",
       "      <td>96.21874</td>\n",
       "      <td>6167.23874</td>\n",
       "      <td>0.650</td>\n",
       "      <td>0.650</td>\n",
       "      <td>0.0</td>\n",
       "    </tr>\n",
       "    <tr>\n",
       "      <th>2018-01-01 00:05:00</th>\n",
       "      <td>D</td>\n",
       "      <td>DISPATCH</td>\n",
       "      <td>REGIONSUM</td>\n",
       "      <td>4.0</td>\n",
       "      <td>1.0</td>\n",
       "      <td>SA1</td>\n",
       "      <td>2.017123e+10</td>\n",
       "      <td>0.0</td>\n",
       "      <td>1311.69</td>\n",
       "      <td>2097.706</td>\n",
       "      <td>...</td>\n",
       "      <td>94.000000</td>\n",
       "      <td>92.83001</td>\n",
       "      <td>65.000000</td>\n",
       "      <td>NaN</td>\n",
       "      <td>NaN</td>\n",
       "      <td>56.26510</td>\n",
       "      <td>1382.86510</td>\n",
       "      <td>232.706</td>\n",
       "      <td>232.706</td>\n",
       "      <td>0.0</td>\n",
       "    </tr>\n",
       "    <tr>\n",
       "      <th>2018-01-01 00:05:00</th>\n",
       "      <td>D</td>\n",
       "      <td>DISPATCH</td>\n",
       "      <td>REGIONSUM</td>\n",
       "      <td>4.0</td>\n",
       "      <td>1.0</td>\n",
       "      <td>TAS1</td>\n",
       "      <td>2.017123e+10</td>\n",
       "      <td>0.0</td>\n",
       "      <td>981.16</td>\n",
       "      <td>2521.608</td>\n",
       "      <td>...</td>\n",
       "      <td>257.112576</td>\n",
       "      <td>151.07581</td>\n",
       "      <td>18.000000</td>\n",
       "      <td>NaN</td>\n",
       "      <td>NaN</td>\n",
       "      <td>116.82656</td>\n",
       "      <td>1097.98656</td>\n",
       "      <td>153.608</td>\n",
       "      <td>153.608</td>\n",
       "      <td>0.0</td>\n",
       "    </tr>\n",
       "    <tr>\n",
       "      <th>2018-01-01 00:05:00</th>\n",
       "      <td>D</td>\n",
       "      <td>DISPATCH</td>\n",
       "      <td>REGIONSUM</td>\n",
       "      <td>4.0</td>\n",
       "      <td>1.0</td>\n",
       "      <td>VIC1</td>\n",
       "      <td>2.017123e+10</td>\n",
       "      <td>0.0</td>\n",
       "      <td>4306.37</td>\n",
       "      <td>8726.033</td>\n",
       "      <td>...</td>\n",
       "      <td>330.000000</td>\n",
       "      <td>250.00000</td>\n",
       "      <td>162.662354</td>\n",
       "      <td>NaN</td>\n",
       "      <td>NaN</td>\n",
       "      <td>148.25500</td>\n",
       "      <td>4468.83500</td>\n",
       "      <td>202.033</td>\n",
       "      <td>202.033</td>\n",
       "      <td>0.0</td>\n",
       "    </tr>\n",
       "  </tbody>\n",
       "</table>\n",
       "<p>5 rows × 108 columns</p>\n",
       "</div>"
      ],
      "text/plain": [
       "                     I  DISPATCH  REGIONSUM    4  RUNNO REGIONID  \\\n",
       "SETTLEMENTDATE                                                     \n",
       "2018-01-01 00:05:00  D  DISPATCH  REGIONSUM  4.0    1.0     NSW1   \n",
       "2018-01-01 00:05:00  D  DISPATCH  REGIONSUM  4.0    1.0     QLD1   \n",
       "2018-01-01 00:05:00  D  DISPATCH  REGIONSUM  4.0    1.0      SA1   \n",
       "2018-01-01 00:05:00  D  DISPATCH  REGIONSUM  4.0    1.0     TAS1   \n",
       "2018-01-01 00:05:00  D  DISPATCH  REGIONSUM  4.0    1.0     VIC1   \n",
       "\n",
       "                     DISPATCHINTERVAL  INTERVENTION  TOTALDEMAND  \\\n",
       "SETTLEMENTDATE                                                     \n",
       "2018-01-01 00:05:00      2.017123e+10           0.0      7021.71   \n",
       "2018-01-01 00:05:00      2.017123e+10           0.0      6057.98   \n",
       "2018-01-01 00:05:00      2.017123e+10           0.0      1311.69   \n",
       "2018-01-01 00:05:00      2.017123e+10           0.0       981.16   \n",
       "2018-01-01 00:05:00      2.017123e+10           0.0      4306.37   \n",
       "\n",
       "                     AVAILABLEGENERATION  ...  LOWER60SECACTUALAVAILABILITY  \\\n",
       "SETTLEMENTDATE                            ...                                 \n",
       "2018-01-01 00:05:00            11526.264  ...                    824.000000   \n",
       "2018-01-01 00:05:00            10651.650  ...                    200.000000   \n",
       "2018-01-01 00:05:00             2097.706  ...                     94.000000   \n",
       "2018-01-01 00:05:00             2521.608  ...                    257.112576   \n",
       "2018-01-01 00:05:00             8726.033  ...                    330.000000   \n",
       "\n",
       "                     LOWER5MINACTUALAVAILABILITY  LOWERREGACTUALAVAILABILITY  \\\n",
       "SETTLEMENTDATE                                                                 \n",
       "2018-01-01 00:05:00                    687.64070                  227.665483   \n",
       "2018-01-01 00:05:00                     35.00000                  189.300009   \n",
       "2018-01-01 00:05:00                     92.83001                   65.000000   \n",
       "2018-01-01 00:05:00                    151.07581                   18.000000   \n",
       "2018-01-01 00:05:00                    250.00000                  162.662354   \n",
       "\n",
       "                     LORSURPLUS  LRCSURPLUS  TOTALINTERMITTENTGENERATION  \\\n",
       "SETTLEMENTDATE                                                             \n",
       "2018-01-01 00:05:00         NaN         NaN                      0.17736   \n",
       "2018-01-01 00:05:00         NaN         NaN                     96.21874   \n",
       "2018-01-01 00:05:00         NaN         NaN                     56.26510   \n",
       "2018-01-01 00:05:00         NaN         NaN                    116.82656   \n",
       "2018-01-01 00:05:00         NaN         NaN                    148.25500   \n",
       "\n",
       "                     DEMAND_AND_NONSCHEDGEN     UIGF  SEMISCHEDULE_CLEAREDMW  \\\n",
       "SETTLEMENTDATE                                                                 \n",
       "2018-01-01 00:05:00              7042.60736   89.264                  89.264   \n",
       "2018-01-01 00:05:00              6167.23874    0.650                   0.650   \n",
       "2018-01-01 00:05:00              1382.86510  232.706                 232.706   \n",
       "2018-01-01 00:05:00              1097.98656  153.608                 153.608   \n",
       "2018-01-01 00:05:00              4468.83500  202.033                 202.033   \n",
       "\n",
       "                     SEMISCHEDULE_COMPLIANCEMW  \n",
       "SETTLEMENTDATE                                  \n",
       "2018-01-01 00:05:00                        0.0  \n",
       "2018-01-01 00:05:00                        0.0  \n",
       "2018-01-01 00:05:00                        0.0  \n",
       "2018-01-01 00:05:00                        0.0  \n",
       "2018-01-01 00:05:00                        0.0  \n",
       "\n",
       "[5 rows x 108 columns]"
      ]
     },
     "execution_count": 241,
     "metadata": {},
     "output_type": "execute_result"
    }
   ],
   "source": [
    "raw = pd.read_csv(os.path.join(home, 'nem-data', 'demand', '2018-01', 'clean.csv'), index_col=4, parse_dates=True)\n",
    "raw.head()"
   ]
  },
  {
   "cell_type": "code",
   "execution_count": 242,
   "metadata": {},
   "outputs": [
    {
     "data": {
      "text/html": [
       "<div>\n",
       "<style scoped>\n",
       "    .dataframe tbody tr th:only-of-type {\n",
       "        vertical-align: middle;\n",
       "    }\n",
       "\n",
       "    .dataframe tbody tr th {\n",
       "        vertical-align: top;\n",
       "    }\n",
       "\n",
       "    .dataframe thead th {\n",
       "        text-align: right;\n",
       "    }\n",
       "</style>\n",
       "<table border=\"1\" class=\"dataframe\">\n",
       "  <thead>\n",
       "    <tr style=\"text-align: right;\">\n",
       "      <th></th>\n",
       "      <th>REGIONID</th>\n",
       "      <th>TOTALDEMAND</th>\n",
       "    </tr>\n",
       "    <tr>\n",
       "      <th>SETTLEMENTDATE</th>\n",
       "      <th></th>\n",
       "      <th></th>\n",
       "    </tr>\n",
       "  </thead>\n",
       "  <tbody>\n",
       "    <tr>\n",
       "      <th>2018-01-01 00:05:00</th>\n",
       "      <td>SA1</td>\n",
       "      <td>1311.69</td>\n",
       "    </tr>\n",
       "    <tr>\n",
       "      <th>2018-01-01 00:10:00</th>\n",
       "      <td>SA1</td>\n",
       "      <td>1300.79</td>\n",
       "    </tr>\n",
       "    <tr>\n",
       "      <th>2018-01-01 00:15:00</th>\n",
       "      <td>SA1</td>\n",
       "      <td>1288.66</td>\n",
       "    </tr>\n",
       "    <tr>\n",
       "      <th>2018-01-01 00:20:00</th>\n",
       "      <td>SA1</td>\n",
       "      <td>1269.00</td>\n",
       "    </tr>\n",
       "    <tr>\n",
       "      <th>2018-01-01 00:25:00</th>\n",
       "      <td>SA1</td>\n",
       "      <td>1289.67</td>\n",
       "    </tr>\n",
       "  </tbody>\n",
       "</table>\n",
       "</div>"
      ],
      "text/plain": [
       "                    REGIONID  TOTALDEMAND\n",
       "SETTLEMENTDATE                           \n",
       "2018-01-01 00:05:00      SA1      1311.69\n",
       "2018-01-01 00:10:00      SA1      1300.79\n",
       "2018-01-01 00:15:00      SA1      1288.66\n",
       "2018-01-01 00:20:00      SA1      1269.00\n",
       "2018-01-01 00:25:00      SA1      1289.67"
      ]
     },
     "execution_count": 242,
     "metadata": {},
     "output_type": "execute_result"
    }
   ],
   "source": [
    "region = raw['REGIONID'] == 'SA1'\n",
    "cols = ['REGIONID', 'TOTALDEMAND']\n",
    "\n",
    "target = raw[region][cols]\n",
    "target.head()"
   ]
  },
  {
   "cell_type": "markdown",
   "metadata": {
    "colab_type": "text",
    "id": "wUfq-sjUAq-B"
   },
   "source": [
    "## Exercise - raw dataset health check\n",
    "\n",
    "On the `raw` dataframe, check\n",
    "- how many missing values we have in each column\n",
    "- check for duplicates\n",
    "\n",
    "On the `target` dataframe\n",
    "- check the integrity of the time stamps (do we have any gaps?)"
   ]
  },
  {
   "cell_type": "code",
   "execution_count": 243,
   "metadata": {
    "colab": {},
    "colab_type": "code",
    "id": "fMfo__xlAq-C"
   },
   "outputs": [
    {
     "data": {
      "text/plain": [
       "I                                   0\n",
       "DISPATCH                            0\n",
       "REGIONSUM                           0\n",
       "4                                   0\n",
       "RUNNO                               0\n",
       "REGIONID                            0\n",
       "DISPATCHINTERVAL                    0\n",
       "INTERVENTION                        0\n",
       "TOTALDEMAND                         0\n",
       "AVAILABLEGENERATION                 0\n",
       "AVAILABLELOAD                       0\n",
       "DEMANDFORECAST                      0\n",
       "DISPATCHABLEGENERATION              0\n",
       "DISPATCHABLELOAD                    0\n",
       "NETINTERCHANGE                      0\n",
       "EXCESSGENERATION                    0\n",
       "LOWER5MINDISPATCH               51480\n",
       "LOWER5MINIMPORT                 51480\n",
       "LOWER5MINLOCALDISPATCH              0\n",
       "LOWER5MINLOCALPRICE             51480\n",
       "LOWER5MINLOCALREQ               51480\n",
       "LOWER5MINPRICE                  51480\n",
       "LOWER5MINREQ                    51480\n",
       "LOWER5MINSUPPLYPRICE            51480\n",
       "LOWER60SECDISPATCH              51480\n",
       "LOWER60SECIMPORT                51480\n",
       "LOWER60SECLOCALDISPATCH             0\n",
       "LOWER60SECLOCALPRICE            51480\n",
       "LOWER60SECLOCALREQ              51480\n",
       "LOWER60SECPRICE                 51480\n",
       "                                ...  \n",
       "RAISEREGLOCALVIOLATION          51480\n",
       "RAISE60SECLOCALVIOLATION        51480\n",
       "RAISE6SECLOCALVIOLATION         51480\n",
       "LOWER5MINLOCALVIOLATION         51480\n",
       "LOWERREGLOCALVIOLATION          51480\n",
       "LOWER60SECLOCALVIOLATION        51480\n",
       "LOWER6SECLOCALVIOLATION         51480\n",
       "RAISE5MINVIOLATION              51480\n",
       "RAISEREGVIOLATION               51480\n",
       "RAISE60SECVIOLATION             51480\n",
       "RAISE6SECVIOLATION              51480\n",
       "LOWER5MINVIOLATION              51480\n",
       "LOWERREGVIOLATION               51480\n",
       "LOWER60SECVIOLATION             51480\n",
       "LOWER6SECVIOLATION              51480\n",
       "RAISE6SECACTUALAVAILABILITY         0\n",
       "RAISE60SECACTUALAVAILABILITY        0\n",
       "RAISE5MINACTUALAVAILABILITY         0\n",
       "RAISEREGACTUALAVAILABILITY          0\n",
       "LOWER6SECACTUALAVAILABILITY         0\n",
       "LOWER60SECACTUALAVAILABILITY        0\n",
       "LOWER5MINACTUALAVAILABILITY         0\n",
       "LOWERREGACTUALAVAILABILITY          0\n",
       "LORSURPLUS                      51480\n",
       "LRCSURPLUS                      51480\n",
       "TOTALINTERMITTENTGENERATION         0\n",
       "DEMAND_AND_NONSCHEDGEN              0\n",
       "UIGF                                0\n",
       "SEMISCHEDULE_CLEAREDMW              0\n",
       "SEMISCHEDULE_COMPLIANCEMW           0\n",
       "Length: 108, dtype: int64"
      ]
     },
     "execution_count": 243,
     "metadata": {},
     "output_type": "execute_result"
    }
   ],
   "source": [
    "raw.isnull().sum()"
   ]
  },
  {
   "cell_type": "markdown",
   "metadata": {},
   "source": [
    "Some of the columns on the raw dataset contain no information at all (100% null values), but we are going to focus our analysis on `TOTALDEMAND`, which thankfully has no missing values at all."
   ]
  },
  {
   "cell_type": "code",
   "execution_count": 244,
   "metadata": {},
   "outputs": [
    {
     "data": {
      "text/plain": [
       "0"
      ]
     },
     "execution_count": 244,
     "metadata": {},
     "output_type": "execute_result"
    }
   ],
   "source": [
    "raw.duplicated().sum()"
   ]
  },
  {
   "cell_type": "markdown",
   "metadata": {},
   "source": [
    "The raw dataset has no duplicated rows."
   ]
  },
  {
   "cell_type": "code",
   "execution_count": 245,
   "metadata": {},
   "outputs": [
    {
     "data": {
      "text/plain": [
       "1369"
      ]
     },
     "execution_count": 245,
     "metadata": {},
     "output_type": "execute_result"
    }
   ],
   "source": [
    "td = pd.Timedelta(minutes = 5)\n",
    "\n",
    "(target.index.to_series().diff() != td).sum()\n"
   ]
  },
  {
   "cell_type": "markdown",
   "metadata": {},
   "source": [
    "Some rows on the target dataset appear to have time deltas that are different from the typical 5 minutes. We are going to check if there are any duplicate entries."
   ]
  },
  {
   "cell_type": "code",
   "execution_count": 246,
   "metadata": {},
   "outputs": [
    {
     "data": {
      "text/plain": [
       "1"
      ]
     },
     "execution_count": 246,
     "metadata": {},
     "output_type": "execute_result"
    }
   ],
   "source": [
    "target = target[target.index.duplicated(keep='first') == False]\n",
    "\n",
    "(target.index.to_series().diff() != td).sum()"
   ]
  },
  {
   "cell_type": "markdown",
   "metadata": {},
   "source": [
    "After dropping the duplicated rows, there's only a single row with a time delta that isn't 5 minutes. This is normal, because the first row can't be compared to the previous."
   ]
  },
  {
   "cell_type": "code",
   "execution_count": null,
   "metadata": {},
   "outputs": [],
   "source": []
  }
 ],
 "metadata": {
  "colab": {
   "name": "data-cleaning.ipynb",
   "provenance": []
  },
  "kernelspec": {
   "display_name": "Python 3",
   "language": "python",
   "name": "python3"
  },
  "language_info": {
   "codemirror_mode": {
    "name": "ipython",
    "version": 3
   },
   "file_extension": ".py",
   "mimetype": "text/x-python",
   "name": "python",
   "nbconvert_exporter": "python",
   "pygments_lexer": "ipython3",
   "version": "3.7.3"
  }
 },
 "nbformat": 4,
 "nbformat_minor": 4
}
