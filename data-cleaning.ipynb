{
  "nbformat": 4,
  "nbformat_minor": 0,
  "metadata": {
    "kernelspec": {
      "display_name": "Python 3",
      "language": "python",
      "name": "python3"
    },
    "language_info": {
      "codemirror_mode": {
        "name": "ipython",
        "version": 3
      },
      "file_extension": ".py",
      "mimetype": "text/x-python",
      "name": "python",
      "nbconvert_exporter": "python",
      "pygments_lexer": "ipython3",
      "version": "3.6.8"
    },
    "colab": {
      "name": "data-cleaning.ipynb",
      "provenance": []
    }
  },
  "cells": [
    {
      "cell_type": "code",
      "metadata": {
        "id": "pqXVPw0fAq9r",
        "colab_type": "code",
        "colab": {}
      },
      "source": [
        "import os\n",
        "\n",
        "import pandas as pd\n",
        "\n",
        "!rm -rf nem-data\n",
        "!git clone https://github.com/ADGEfficiency/nem-data\n",
        "%cd nem-data\n",
        "!python setup.py install\n",
        "!pip3 install -q -r requirements.txt\n",
        "!nem --reports demand --start 2018-01 --end 2018-03"
      ],
      "execution_count": 0,
      "outputs": []
    },
    {
      "cell_type": "markdown",
      "metadata": {
        "id": "4IYWqeyGAq9z",
        "colab_type": "text"
      },
      "source": [
        "# Data cleaning\n",
        "\n",
        "Before using this notebook, you will need to have used the `nem-data` library to download data - see the instructions for this here\n",
        "\n",
        "Cleaning data requires two tasks\n",
        "- identification\n",
        "- cleaning\n",
        "\n",
        "See what files you have downloaded:"
      ]
    },
    {
      "cell_type": "code",
      "metadata": {
        "id": "swWD9lqoAq90",
        "colab_type": "code",
        "colab": {}
      },
      "source": [
        "home = os.path.expanduser('~')\n",
        "nem_files = os.listdir(os.path.join(home, 'nem-data', 'demand'))\n",
        "\n",
        "nem_files"
      ],
      "execution_count": 0,
      "outputs": []
    },
    {
      "cell_type": "markdown",
      "metadata": {
        "id": "KKb2x8PCAq92",
        "colab_type": "text"
      },
      "source": [
        "If we look at a specific month, we see that `nem-data` has downloaded a few files for each month:"
      ]
    },
    {
      "cell_type": "code",
      "metadata": {
        "id": "l18B-xh3Aq94",
        "colab_type": "code",
        "colab": {}
      },
      "source": [
        "nem_files = os.listdir(os.path.join(home, 'nem-data', 'demand', '2018-01'))\n",
        "\n",
        "nem_files"
      ],
      "execution_count": 0,
      "outputs": []
    },
    {
      "cell_type": "markdown",
      "metadata": {
        "id": "JaTUxqHiAq96",
        "colab_type": "text"
      },
      "source": [
        "Let's grab `clean.csv` and extract a potential target.\n",
        "\n",
        "The data provided for the NEM is large - making working on problems in the NEM great for data scientists:"
      ]
    },
    {
      "cell_type": "code",
      "metadata": {
        "id": "-zuwvbgeAq97",
        "colab_type": "code",
        "colab": {}
      },
      "source": [
        "raw = pd.read_csv(os.path.join(home, 'nem-data', 'demand', '2018-01', 'clean.csv'), index_col=0)\n",
        "raw.head()"
      ],
      "execution_count": 0,
      "outputs": []
    },
    {
      "cell_type": "code",
      "metadata": {
        "id": "3AZVq-txAq9-",
        "colab_type": "code",
        "colab": {}
      },
      "source": [
        "region = 'SA1'\n",
        "mask = raw.loc[:, 'REGIONID'] == region\n",
        "target = raw.loc[mask, ['SETTLEMENTDATE', 'REGIONID', 'TOTALDEMAND']]\n",
        "\n",
        "target.head()"
      ],
      "execution_count": 0,
      "outputs": []
    },
    {
      "cell_type": "markdown",
      "metadata": {
        "id": "wUfq-sjUAq-B",
        "colab_type": "text"
      },
      "source": [
        "## Exercise - raw dataset health check\n",
        "\n",
        "On the `raw` dataframe, check\n",
        "- how many missing values we have in each column\n",
        "- check for duplicates\n",
        "\n",
        "On the `target` dataframe\n",
        "- check the integrity of the time stamps (do we have any gaps?)"
      ]
    },
    {
      "cell_type": "code",
      "metadata": {
        "id": "fMfo__xlAq-C",
        "colab_type": "code",
        "colab": {}
      },
      "source": [
        ""
      ],
      "execution_count": 0,
      "outputs": []
    }
  ]
}