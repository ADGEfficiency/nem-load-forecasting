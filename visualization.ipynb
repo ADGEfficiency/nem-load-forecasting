{
 "cells": [
  {
   "cell_type": "code",
   "execution_count": null,
   "metadata": {},
   "outputs": [],
   "source": [
    "import os\n",
    "\n",
    "import pandas as pd"
   ]
  },
  {
   "cell_type": "markdown",
   "metadata": {},
   "source": [
    "## Visulaization\n",
    "\n",
    "This notebook assumes you have data in `~/nem-data`, and follows from `data-cleaning.ipynb`\n",
    "\n",
    "Two background concepts\n",
    "- lagged values\n",
    "- autocorrelation\n",
    "\n",
    "Plot the following for the 'TOTALDEMAND' column\n",
    "- a plot of the entire time series\n",
    "- groupby ([df.index.year, df.index.month, day], [df.index.month], [df.index.hour]) aggregate (np.mean, np.std, np.median, np.min, np.max)\n",
    "- scatter plot of the lagged values\n",
    "- autocorrelation & partial autocorrelation\n",
    "- bonus == power spectral density plot"
   ]
  },
  {
   "cell_type": "code",
   "execution_count": null,
   "metadata": {},
   "outputs": [],
   "source": [
    "#  for convienence\n",
    "home = os.path.expanduser('~')\n",
    "\n",
    "months = ['2018-01', '2018-02', '2018-03']\n",
    "output = []\n",
    "for month in months:\n",
    "    raw = pd.read_csv(\n",
    "        os.path.join(home, 'nem-data', 'demand', month, 'clean.csv'), \n",
    "        index_col=4, \n",
    "        parse_dates=True\n",
    "    )\n",
    "\n",
    "    region = raw['REGIONID'] == 'SA1'\n",
    "    cols = ['REGIONID', 'TOTALDEMAND']\n",
    "    target = raw[region][cols]\n",
    "    output.append(target)\n",
    "    \n",
    "output = pd.concat(output, axis=0)"
   ]
  },
  {
   "cell_type": "code",
   "execution_count": null,
   "metadata": {},
   "outputs": [],
   "source": []
  }
 ],
 "metadata": {
  "kernelspec": {
   "display_name": "Python 3",
   "language": "python",
   "name": "python3"
  },
  "language_info": {
   "codemirror_mode": {
    "name": "ipython",
    "version": 3
   },
   "file_extension": ".py",
   "mimetype": "text/x-python",
   "name": "python",
   "nbconvert_exporter": "python",
   "pygments_lexer": "ipython3",
   "version": "3.6.8"
  }
 },
 "nbformat": 4,
 "nbformat_minor": 4
}
